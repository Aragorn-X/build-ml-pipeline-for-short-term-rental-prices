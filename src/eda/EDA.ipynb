{
 "cells": [
  {
   "cell_type": "code",
   "execution_count": 1,
   "id": "e540cf2a",
   "metadata": {},
   "outputs": [
    {
     "name": "stderr",
     "output_type": "stream",
     "text": [
      "\u001b[34m\u001b[1mwandb\u001b[0m: Currently logged in as: \u001b[33moud\u001b[0m (use `wandb login --relogin` to force relogin)\n",
      "\u001b[34m\u001b[1mwandb\u001b[0m: wandb version 0.13.0 is available!  To upgrade, please run:\n",
      "\u001b[34m\u001b[1mwandb\u001b[0m:  $ pip install wandb --upgrade\n"
     ]
    },
    {
     "data": {
      "text/html": [
       "\n",
       "                Tracking run with wandb version 0.10.31<br/>\n",
       "                Syncing run <strong style=\"color:#cdcd00\">resilient-star-8</strong> to <a href=\"https://wandb.ai\" target=\"_blank\">Weights & Biases</a> <a href=\"https://docs.wandb.com/integrations/jupyter.html\" target=\"_blank\">(Documentation)</a>.<br/>\n",
       "                Project page: <a href=\"https://wandb.ai/oud/nyc_airbnb\" target=\"_blank\">https://wandb.ai/oud/nyc_airbnb</a><br/>\n",
       "                Run page: <a href=\"https://wandb.ai/oud/nyc_airbnb/runs/1q08yh93\" target=\"_blank\">https://wandb.ai/oud/nyc_airbnb/runs/1q08yh93</a><br/>\n",
       "                Run data is saved locally in <code>/home/doug/PycharmProjects/deepspace/ML_DevOps/build-ml-pipeline-for-short-term-rental-prices/src/eda/wandb/run-20220805_140133-1q08yh93</code><br/><br/>\n",
       "            "
      ],
      "text/plain": [
       "<IPython.core.display.HTML object>"
      ]
     },
     "metadata": {},
     "output_type": "display_data"
    }
   ],
   "source": [
    "import pandas as pd\n",
    "import wandb\n",
    "\n",
    "run = wandb.init(project=\"nyc_airbnb\", group=\"eda\", save_code=True)\n",
    "local_path = wandb.use_artifact(\"sample.csv:latest\").file()\n",
    "df = pd.read_csv(local_path)"
   ]
  },
  {
   "cell_type": "code",
   "execution_count": 2,
   "id": "a2bba101",
   "metadata": {},
   "outputs": [
    {
     "name": "stdout",
     "output_type": "stream",
     "text": [
      "Collecting pandas-profiling==3.1.0\n",
      "  Using cached pandas_profiling-3.1.0-py2.py3-none-any.whl (261 kB)\n",
      "Requirement already satisfied: tqdm>=4.48.2 in /home/doug/anaconda3/envs/mlflow-e0de6c777afb14bf04acb326c341adb5dc1dde97/lib/python3.9/site-packages (from pandas-profiling==3.1.0) (4.64.0)\n",
      "Requirement already satisfied: htmlmin>=0.1.12 in /home/doug/anaconda3/envs/mlflow-e0de6c777afb14bf04acb326c341adb5dc1dde97/lib/python3.9/site-packages (from pandas-profiling==3.1.0) (0.1.12)\n",
      "Requirement already satisfied: PyYAML>=5.0.0 in /home/doug/anaconda3/envs/mlflow-e0de6c777afb14bf04acb326c341adb5dc1dde97/lib/python3.9/site-packages (from pandas-profiling==3.1.0) (6.0)\n",
      "Requirement already satisfied: requests>=2.24.0 in /home/doug/anaconda3/envs/mlflow-e0de6c777afb14bf04acb326c341adb5dc1dde97/lib/python3.9/site-packages (from pandas-profiling==3.1.0) (2.28.1)\n",
      "Requirement already satisfied: pandas!=1.0.0,!=1.0.1,!=1.0.2,!=1.1.0,>=0.25.3 in /home/doug/anaconda3/envs/mlflow-e0de6c777afb14bf04acb326c341adb5dc1dde97/lib/python3.9/site-packages (from pandas-profiling==3.1.0) (1.2.3)\n",
      "Requirement already satisfied: scipy>=1.4.1 in /home/doug/anaconda3/envs/mlflow-e0de6c777afb14bf04acb326c341adb5dc1dde97/lib/python3.9/site-packages (from pandas-profiling==3.1.0) (1.9.0)\n",
      "Requirement already satisfied: matplotlib>=3.2.0 in /home/doug/anaconda3/envs/mlflow-e0de6c777afb14bf04acb326c341adb5dc1dde97/lib/python3.9/site-packages (from pandas-profiling==3.1.0) (3.5.2)\n",
      "Requirement already satisfied: missingno>=0.4.2 in /home/doug/anaconda3/envs/mlflow-e0de6c777afb14bf04acb326c341adb5dc1dde97/lib/python3.9/site-packages (from pandas-profiling==3.1.0) (0.4.2)\n",
      "Requirement already satisfied: jinja2>=2.11.1 in /home/doug/anaconda3/envs/mlflow-e0de6c777afb14bf04acb326c341adb5dc1dde97/lib/python3.9/site-packages (from pandas-profiling==3.1.0) (3.1.1)\n",
      "Requirement already satisfied: numpy>=1.16.0 in /home/doug/anaconda3/envs/mlflow-e0de6c777afb14bf04acb326c341adb5dc1dde97/lib/python3.9/site-packages (from pandas-profiling==3.1.0) (1.23.1)\n",
      "Requirement already satisfied: phik>=0.11.1 in /home/doug/anaconda3/envs/mlflow-e0de6c777afb14bf04acb326c341adb5dc1dde97/lib/python3.9/site-packages (from pandas-profiling==3.1.0) (0.12.2)\n",
      "Requirement already satisfied: seaborn>=0.10.1 in /home/doug/anaconda3/envs/mlflow-e0de6c777afb14bf04acb326c341adb5dc1dde97/lib/python3.9/site-packages (from pandas-profiling==3.1.0) (0.11.1)\n",
      "Collecting tangled-up-in-unicode==0.1.0\n",
      "  Using cached tangled_up_in_unicode-0.1.0-py3-none-any.whl (3.1 MB)\n",
      "Collecting visions[type_image_path]==0.7.4\n",
      "  Using cached visions-0.7.4-py3-none-any.whl (102 kB)\n",
      "Requirement already satisfied: networkx>=2.4 in /home/doug/anaconda3/envs/mlflow-e0de6c777afb14bf04acb326c341adb5dc1dde97/lib/python3.9/site-packages (from visions[type_image_path]==0.7.4->pandas-profiling==3.1.0) (2.8.5)\n",
      "Requirement already satisfied: attrs>=19.3.0 in /home/doug/anaconda3/envs/mlflow-e0de6c777afb14bf04acb326c341adb5dc1dde97/lib/python3.9/site-packages (from visions[type_image_path]==0.7.4->pandas-profiling==3.1.0) (22.1.0)\n",
      "Requirement already satisfied: imagehash in /home/doug/anaconda3/envs/mlflow-e0de6c777afb14bf04acb326c341adb5dc1dde97/lib/python3.9/site-packages (from visions[type_image_path]==0.7.4->pandas-profiling==3.1.0) (4.2.1)\n",
      "Requirement already satisfied: Pillow in /home/doug/anaconda3/envs/mlflow-e0de6c777afb14bf04acb326c341adb5dc1dde97/lib/python3.9/site-packages (from visions[type_image_path]==0.7.4->pandas-profiling==3.1.0) (9.2.0)\n",
      "Collecting joblib~=1.0.1\n",
      "  Using cached joblib-1.0.1-py3-none-any.whl (303 kB)\n",
      "Collecting markupsafe~=2.0.1\n",
      "  Using cached MarkupSafe-2.0.1-cp39-cp39-manylinux_2_5_x86_64.manylinux1_x86_64.manylinux_2_12_x86_64.manylinux2010_x86_64.whl (30 kB)\n",
      "Requirement already satisfied: pyparsing>=2.2.1 in /home/doug/anaconda3/envs/mlflow-e0de6c777afb14bf04acb326c341adb5dc1dde97/lib/python3.9/site-packages (from matplotlib>=3.2.0->pandas-profiling==3.1.0) (3.0.9)\n",
      "Requirement already satisfied: cycler>=0.10 in /home/doug/anaconda3/envs/mlflow-e0de6c777afb14bf04acb326c341adb5dc1dde97/lib/python3.9/site-packages (from matplotlib>=3.2.0->pandas-profiling==3.1.0) (0.11.0)\n",
      "Requirement already satisfied: kiwisolver>=1.0.1 in /home/doug/anaconda3/envs/mlflow-e0de6c777afb14bf04acb326c341adb5dc1dde97/lib/python3.9/site-packages (from matplotlib>=3.2.0->pandas-profiling==3.1.0) (1.4.4)\n",
      "Requirement already satisfied: fonttools>=4.22.0 in /home/doug/anaconda3/envs/mlflow-e0de6c777afb14bf04acb326c341adb5dc1dde97/lib/python3.9/site-packages (from matplotlib>=3.2.0->pandas-profiling==3.1.0) (4.34.4)\n",
      "Requirement already satisfied: packaging>=20.0 in /home/doug/anaconda3/envs/mlflow-e0de6c777afb14bf04acb326c341adb5dc1dde97/lib/python3.9/site-packages (from matplotlib>=3.2.0->pandas-profiling==3.1.0) (21.3)\n",
      "Requirement already satisfied: python-dateutil>=2.7 in /home/doug/anaconda3/envs/mlflow-e0de6c777afb14bf04acb326c341adb5dc1dde97/lib/python3.9/site-packages (from matplotlib>=3.2.0->pandas-profiling==3.1.0) (2.8.2)\n",
      "Collecting multimethod>=1.4\n",
      "  Using cached multimethod-1.8-py3-none-any.whl (9.8 kB)\n",
      "Requirement already satisfied: pytz>=2017.3 in /home/doug/anaconda3/envs/mlflow-e0de6c777afb14bf04acb326c341adb5dc1dde97/lib/python3.9/site-packages (from pandas!=1.0.0,!=1.0.1,!=1.0.2,!=1.1.0,>=0.25.3->pandas-profiling==3.1.0) (2022.1)\n",
      "Collecting pydantic>=1.8.1\n",
      "  Using cached pydantic-1.9.1-cp39-cp39-manylinux_2_17_x86_64.manylinux2014_x86_64.whl (12.4 MB)\n",
      "Requirement already satisfied: six>=1.5 in /home/doug/anaconda3/envs/mlflow-e0de6c777afb14bf04acb326c341adb5dc1dde97/lib/python3.9/site-packages (from python-dateutil>=2.7->matplotlib>=3.2.0->pandas-profiling==3.1.0) (1.16.0)\n",
      "Requirement already satisfied: urllib3<1.27,>=1.21.1 in /home/doug/anaconda3/envs/mlflow-e0de6c777afb14bf04acb326c341adb5dc1dde97/lib/python3.9/site-packages (from requests>=2.24.0->pandas-profiling==3.1.0) (1.26.11)\n",
      "Requirement already satisfied: idna<4,>=2.5 in /home/doug/anaconda3/envs/mlflow-e0de6c777afb14bf04acb326c341adb5dc1dde97/lib/python3.9/site-packages (from requests>=2.24.0->pandas-profiling==3.1.0) (3.3)\n",
      "Requirement already satisfied: certifi>=2017.4.17 in /home/doug/anaconda3/envs/mlflow-e0de6c777afb14bf04acb326c341adb5dc1dde97/lib/python3.9/site-packages (from requests>=2.24.0->pandas-profiling==3.1.0) (2022.6.15)\n",
      "Requirement already satisfied: charset-normalizer<3,>=2 in /home/doug/anaconda3/envs/mlflow-e0de6c777afb14bf04acb326c341adb5dc1dde97/lib/python3.9/site-packages (from requests>=2.24.0->pandas-profiling==3.1.0) (2.1.0)\n",
      "Collecting typing-extensions>=3.7.4.3\n",
      "  Using cached typing_extensions-4.3.0-py3-none-any.whl (25 kB)\n",
      "Requirement already satisfied: PyWavelets in /home/doug/anaconda3/envs/mlflow-e0de6c777afb14bf04acb326c341adb5dc1dde97/lib/python3.9/site-packages (from imagehash->visions[type_image_path]==0.7.4->pandas-profiling==3.1.0) (1.3.0)\n",
      "Installing collected packages: tangled-up-in-unicode, multimethod, visions, typing-extensions, markupsafe, joblib, pydantic, pandas-profiling\n",
      "  Attempting uninstall: tangled-up-in-unicode\n",
      "    Found existing installation: tangled-up-in-unicode 0.2.0\n",
      "    Uninstalling tangled-up-in-unicode-0.2.0:\n",
      "      Successfully uninstalled tangled-up-in-unicode-0.2.0\n",
      "  Attempting uninstall: visions\n",
      "    Found existing installation: visions 0.6.0\n",
      "    Uninstalling visions-0.6.0:\n",
      "      Successfully uninstalled visions-0.6.0\n",
      "  Attempting uninstall: markupsafe\n",
      "    Found existing installation: MarkupSafe 2.1.1\n",
      "    Uninstalling MarkupSafe-2.1.1:\n",
      "      Successfully uninstalled MarkupSafe-2.1.1\n",
      "  Attempting uninstall: joblib\n",
      "    Found existing installation: joblib 1.1.0\n",
      "    Uninstalling joblib-1.1.0:\n",
      "      Successfully uninstalled joblib-1.1.0\n",
      "  Attempting uninstall: pandas-profiling\n",
      "    Found existing installation: pandas-profiling 2.11.0\n",
      "    Uninstalling pandas-profiling-2.11.0:\n",
      "      Successfully uninstalled pandas-profiling-2.11.0\n",
      "\u001b[31mERROR: pip's dependency resolver does not currently take into account all the packages that are installed. This behaviour is the source of the following dependency conflicts.\n",
      "werkzeug 2.2.1 requires MarkupSafe>=2.1.1, but you have markupsafe 2.0.1 which is incompatible.\u001b[0m\n",
      "Successfully installed joblib-1.0.1 markupsafe-2.0.1 multimethod-1.8 pandas-profiling-3.1.0 pydantic-1.9.1 tangled-up-in-unicode-0.1.0 typing-extensions-4.3.0 visions-0.7.4\n"
     ]
    }
   ],
   "source": [
    "# !pip install Flask==2.1.0\n",
    "# !pip install -U Jinja2==3.1.1\n",
    "!pip install pandas-profiling==3.1.0\n"
   ]
  },
  {
   "cell_type": "code",
   "execution_count": 3,
   "id": "fd37458f",
   "metadata": {},
   "outputs": [],
   "source": [
    "import pandas_profiling"
   ]
  },
  {
   "cell_type": "code",
   "execution_count": null,
   "id": "99297019",
   "metadata": {},
   "outputs": [],
   "source": []
  },
  {
   "cell_type": "code",
   "execution_count": null,
   "id": "faaf59dd",
   "metadata": {},
   "outputs": [],
   "source": []
  }
 ],
 "metadata": {
  "kernelspec": {
   "display_name": "Python 3 (ipykernel)",
   "language": "python",
   "name": "python3"
  },
  "language_info": {
   "codemirror_mode": {
    "name": "ipython",
    "version": 3
   },
   "file_extension": ".py",
   "mimetype": "text/x-python",
   "name": "python",
   "nbconvert_exporter": "python",
   "pygments_lexer": "ipython3",
   "version": "3.9.13"
  }
 },
 "nbformat": 4,
 "nbformat_minor": 5
}
