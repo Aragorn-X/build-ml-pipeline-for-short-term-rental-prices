{
 "cells": [
  {
   "cell_type": "code",
   "execution_count": 1,
   "id": "e540cf2a",
   "metadata": {},
   "outputs": [
    {
     "name": "stderr",
     "output_type": "stream",
     "text": [
      "\u001b[34m\u001b[1mwandb\u001b[0m: Currently logged in as: \u001b[33moud\u001b[0m (use `wandb login --relogin` to force relogin)\n",
      "\u001b[34m\u001b[1mwandb\u001b[0m: wandb version 0.13.0 is available!  To upgrade, please run:\n",
      "\u001b[34m\u001b[1mwandb\u001b[0m:  $ pip install wandb --upgrade\n"
     ]
    },
    {
     "data": {
      "text/html": [
       "\n",
       "                Tracking run with wandb version 0.10.31<br/>\n",
       "                Syncing run <strong style=\"color:#cdcd00\">smart-water-9</strong> to <a href=\"https://wandb.ai\" target=\"_blank\">Weights & Biases</a> <a href=\"https://docs.wandb.com/integrations/jupyter.html\" target=\"_blank\">(Documentation)</a>.<br/>\n",
       "                Project page: <a href=\"https://wandb.ai/oud/nyc_airbnb\" target=\"_blank\">https://wandb.ai/oud/nyc_airbnb</a><br/>\n",
       "                Run page: <a href=\"https://wandb.ai/oud/nyc_airbnb/runs/1q13ggos\" target=\"_blank\">https://wandb.ai/oud/nyc_airbnb/runs/1q13ggos</a><br/>\n",
       "                Run data is saved locally in <code>/home/doug/PycharmProjects/deepspace/ML_DevOps/build-ml-pipeline-for-short-term-rental-prices/src/eda/wandb/run-20220805_140906-1q13ggos</code><br/><br/>\n",
       "            "
      ],
      "text/plain": [
       "<IPython.core.display.HTML object>"
      ]
     },
     "metadata": {},
     "output_type": "display_data"
    }
   ],
   "source": [
    "import pandas as pd\n",
    "import wandb\n",
    "\n",
    "run = wandb.init(project=\"nyc_airbnb\", group=\"eda\", save_code=True)\n",
    "local_path = wandb.use_artifact(\"sample.csv:latest\").file()\n",
    "df = pd.read_csv(local_path)"
   ]
  },
  {
   "cell_type": "code",
   "execution_count": 2,
   "id": "a2bba101",
   "metadata": {},
   "outputs": [
    {
     "name": "stdout",
     "output_type": "stream",
     "text": [
      "Requirement already satisfied: pandas-profiling==3.1.0 in /home/doug/anaconda3/envs/mlflow-e0de6c777afb14bf04acb326c341adb5dc1dde97/lib/python3.9/site-packages (3.1.0)\n",
      "Requirement already satisfied: jinja2>=2.11.1 in /home/doug/anaconda3/envs/mlflow-e0de6c777afb14bf04acb326c341adb5dc1dde97/lib/python3.9/site-packages (from pandas-profiling==3.1.0) (3.1.1)\n",
      "Requirement already satisfied: requests>=2.24.0 in /home/doug/anaconda3/envs/mlflow-e0de6c777afb14bf04acb326c341adb5dc1dde97/lib/python3.9/site-packages (from pandas-profiling==3.1.0) (2.28.1)\n",
      "Requirement already satisfied: visions[type_image_path]==0.7.4 in /home/doug/anaconda3/envs/mlflow-e0de6c777afb14bf04acb326c341adb5dc1dde97/lib/python3.9/site-packages (from pandas-profiling==3.1.0) (0.7.4)\n",
      "Requirement already satisfied: matplotlib>=3.2.0 in /home/doug/anaconda3/envs/mlflow-e0de6c777afb14bf04acb326c341adb5dc1dde97/lib/python3.9/site-packages (from pandas-profiling==3.1.0) (3.5.2)\n",
      "Requirement already satisfied: markupsafe~=2.0.1 in /home/doug/anaconda3/envs/mlflow-e0de6c777afb14bf04acb326c341adb5dc1dde97/lib/python3.9/site-packages (from pandas-profiling==3.1.0) (2.0.1)\n",
      "Requirement already satisfied: tangled-up-in-unicode==0.1.0 in /home/doug/anaconda3/envs/mlflow-e0de6c777afb14bf04acb326c341adb5dc1dde97/lib/python3.9/site-packages (from pandas-profiling==3.1.0) (0.1.0)\n",
      "Requirement already satisfied: PyYAML>=5.0.0 in /home/doug/anaconda3/envs/mlflow-e0de6c777afb14bf04acb326c341adb5dc1dde97/lib/python3.9/site-packages (from pandas-profiling==3.1.0) (6.0)\n",
      "Requirement already satisfied: seaborn>=0.10.1 in /home/doug/anaconda3/envs/mlflow-e0de6c777afb14bf04acb326c341adb5dc1dde97/lib/python3.9/site-packages (from pandas-profiling==3.1.0) (0.11.1)\n",
      "Requirement already satisfied: tqdm>=4.48.2 in /home/doug/anaconda3/envs/mlflow-e0de6c777afb14bf04acb326c341adb5dc1dde97/lib/python3.9/site-packages (from pandas-profiling==3.1.0) (4.64.0)\n",
      "Requirement already satisfied: joblib~=1.0.1 in /home/doug/anaconda3/envs/mlflow-e0de6c777afb14bf04acb326c341adb5dc1dde97/lib/python3.9/site-packages (from pandas-profiling==3.1.0) (1.0.1)\n",
      "Requirement already satisfied: phik>=0.11.1 in /home/doug/anaconda3/envs/mlflow-e0de6c777afb14bf04acb326c341adb5dc1dde97/lib/python3.9/site-packages (from pandas-profiling==3.1.0) (0.12.2)\n",
      "Requirement already satisfied: multimethod>=1.4 in /home/doug/anaconda3/envs/mlflow-e0de6c777afb14bf04acb326c341adb5dc1dde97/lib/python3.9/site-packages (from pandas-profiling==3.1.0) (1.8)\n",
      "Requirement already satisfied: missingno>=0.4.2 in /home/doug/anaconda3/envs/mlflow-e0de6c777afb14bf04acb326c341adb5dc1dde97/lib/python3.9/site-packages (from pandas-profiling==3.1.0) (0.4.2)\n",
      "Requirement already satisfied: numpy>=1.16.0 in /home/doug/anaconda3/envs/mlflow-e0de6c777afb14bf04acb326c341adb5dc1dde97/lib/python3.9/site-packages (from pandas-profiling==3.1.0) (1.23.1)\n",
      "Requirement already satisfied: htmlmin>=0.1.12 in /home/doug/anaconda3/envs/mlflow-e0de6c777afb14bf04acb326c341adb5dc1dde97/lib/python3.9/site-packages (from pandas-profiling==3.1.0) (0.1.12)\n",
      "Requirement already satisfied: scipy>=1.4.1 in /home/doug/anaconda3/envs/mlflow-e0de6c777afb14bf04acb326c341adb5dc1dde97/lib/python3.9/site-packages (from pandas-profiling==3.1.0) (1.9.0)\n",
      "Requirement already satisfied: pandas!=1.0.0,!=1.0.1,!=1.0.2,!=1.1.0,>=0.25.3 in /home/doug/anaconda3/envs/mlflow-e0de6c777afb14bf04acb326c341adb5dc1dde97/lib/python3.9/site-packages (from pandas-profiling==3.1.0) (1.2.3)\n",
      "Requirement already satisfied: pydantic>=1.8.1 in /home/doug/anaconda3/envs/mlflow-e0de6c777afb14bf04acb326c341adb5dc1dde97/lib/python3.9/site-packages (from pandas-profiling==3.1.0) (1.9.1)\n",
      "Requirement already satisfied: attrs>=19.3.0 in /home/doug/anaconda3/envs/mlflow-e0de6c777afb14bf04acb326c341adb5dc1dde97/lib/python3.9/site-packages (from visions[type_image_path]==0.7.4->pandas-profiling==3.1.0) (22.1.0)\n",
      "Requirement already satisfied: networkx>=2.4 in /home/doug/anaconda3/envs/mlflow-e0de6c777afb14bf04acb326c341adb5dc1dde97/lib/python3.9/site-packages (from visions[type_image_path]==0.7.4->pandas-profiling==3.1.0) (2.8.5)\n",
      "Requirement already satisfied: imagehash in /home/doug/anaconda3/envs/mlflow-e0de6c777afb14bf04acb326c341adb5dc1dde97/lib/python3.9/site-packages (from visions[type_image_path]==0.7.4->pandas-profiling==3.1.0) (4.2.1)\n",
      "Requirement already satisfied: Pillow in /home/doug/anaconda3/envs/mlflow-e0de6c777afb14bf04acb326c341adb5dc1dde97/lib/python3.9/site-packages (from visions[type_image_path]==0.7.4->pandas-profiling==3.1.0) (9.2.0)\n",
      "Requirement already satisfied: fonttools>=4.22.0 in /home/doug/anaconda3/envs/mlflow-e0de6c777afb14bf04acb326c341adb5dc1dde97/lib/python3.9/site-packages (from matplotlib>=3.2.0->pandas-profiling==3.1.0) (4.34.4)\n",
      "Requirement already satisfied: python-dateutil>=2.7 in /home/doug/anaconda3/envs/mlflow-e0de6c777afb14bf04acb326c341adb5dc1dde97/lib/python3.9/site-packages (from matplotlib>=3.2.0->pandas-profiling==3.1.0) (2.8.2)\n",
      "Requirement already satisfied: packaging>=20.0 in /home/doug/anaconda3/envs/mlflow-e0de6c777afb14bf04acb326c341adb5dc1dde97/lib/python3.9/site-packages (from matplotlib>=3.2.0->pandas-profiling==3.1.0) (21.3)\n",
      "Requirement already satisfied: pyparsing>=2.2.1 in /home/doug/anaconda3/envs/mlflow-e0de6c777afb14bf04acb326c341adb5dc1dde97/lib/python3.9/site-packages (from matplotlib>=3.2.0->pandas-profiling==3.1.0) (3.0.9)\n",
      "Requirement already satisfied: kiwisolver>=1.0.1 in /home/doug/anaconda3/envs/mlflow-e0de6c777afb14bf04acb326c341adb5dc1dde97/lib/python3.9/site-packages (from matplotlib>=3.2.0->pandas-profiling==3.1.0) (1.4.4)\n",
      "Requirement already satisfied: cycler>=0.10 in /home/doug/anaconda3/envs/mlflow-e0de6c777afb14bf04acb326c341adb5dc1dde97/lib/python3.9/site-packages (from matplotlib>=3.2.0->pandas-profiling==3.1.0) (0.11.0)\n",
      "Requirement already satisfied: pytz>=2017.3 in /home/doug/anaconda3/envs/mlflow-e0de6c777afb14bf04acb326c341adb5dc1dde97/lib/python3.9/site-packages (from pandas!=1.0.0,!=1.0.1,!=1.0.2,!=1.1.0,>=0.25.3->pandas-profiling==3.1.0) (2022.1)\n",
      "Requirement already satisfied: typing-extensions>=3.7.4.3 in /home/doug/anaconda3/envs/mlflow-e0de6c777afb14bf04acb326c341adb5dc1dde97/lib/python3.9/site-packages (from pydantic>=1.8.1->pandas-profiling==3.1.0) (4.3.0)\n",
      "Requirement already satisfied: six>=1.5 in /home/doug/anaconda3/envs/mlflow-e0de6c777afb14bf04acb326c341adb5dc1dde97/lib/python3.9/site-packages (from python-dateutil>=2.7->matplotlib>=3.2.0->pandas-profiling==3.1.0) (1.16.0)\n",
      "Requirement already satisfied: urllib3<1.27,>=1.21.1 in /home/doug/anaconda3/envs/mlflow-e0de6c777afb14bf04acb326c341adb5dc1dde97/lib/python3.9/site-packages (from requests>=2.24.0->pandas-profiling==3.1.0) (1.26.11)\n",
      "Requirement already satisfied: idna<4,>=2.5 in /home/doug/anaconda3/envs/mlflow-e0de6c777afb14bf04acb326c341adb5dc1dde97/lib/python3.9/site-packages (from requests>=2.24.0->pandas-profiling==3.1.0) (3.3)\n",
      "Requirement already satisfied: charset-normalizer<3,>=2 in /home/doug/anaconda3/envs/mlflow-e0de6c777afb14bf04acb326c341adb5dc1dde97/lib/python3.9/site-packages (from requests>=2.24.0->pandas-profiling==3.1.0) (2.1.0)\n",
      "Requirement already satisfied: certifi>=2017.4.17 in /home/doug/anaconda3/envs/mlflow-e0de6c777afb14bf04acb326c341adb5dc1dde97/lib/python3.9/site-packages (from requests>=2.24.0->pandas-profiling==3.1.0) (2022.6.15)\n",
      "Requirement already satisfied: PyWavelets in /home/doug/anaconda3/envs/mlflow-e0de6c777afb14bf04acb326c341adb5dc1dde97/lib/python3.9/site-packages (from imagehash->visions[type_image_path]==0.7.4->pandas-profiling==3.1.0) (1.3.0)\n"
     ]
    }
   ],
   "source": [
    "!pip install pandas-profiling==3.1.0\n"
   ]
  },
  {
   "cell_type": "code",
   "execution_count": 3,
   "id": "fd37458f",
   "metadata": {},
   "outputs": [],
   "source": [
    "import pandas_profiling"
   ]
  },
  {
   "cell_type": "code",
   "execution_count": null,
   "id": "99297019",
   "metadata": {},
   "outputs": [],
   "source": []
  },
  {
   "cell_type": "code",
   "execution_count": null,
   "id": "faaf59dd",
   "metadata": {},
   "outputs": [],
   "source": []
  }
 ],
 "metadata": {
  "kernelspec": {
   "display_name": "Python 3 (ipykernel)",
   "language": "python",
   "name": "python3"
  },
  "language_info": {
   "codemirror_mode": {
    "name": "ipython",
    "version": 3
   },
   "file_extension": ".py",
   "mimetype": "text/x-python",
   "name": "python",
   "nbconvert_exporter": "python",
   "pygments_lexer": "ipython3",
   "version": "3.9.13"
  }
 },
 "nbformat": 4,
 "nbformat_minor": 5
}
